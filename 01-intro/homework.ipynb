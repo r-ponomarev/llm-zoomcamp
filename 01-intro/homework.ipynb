{
 "cells": [
  {
   "cell_type": "code",
   "execution_count": 1,
   "id": "fefc9556-546d-4ae3-a48a-4259ff1507db",
   "metadata": {},
   "outputs": [],
   "source": [
    "import openai"
   ]
  },
  {
   "cell_type": "code",
   "execution_count": 2,
   "id": "cf37eee7-fda9-49af-a22b-a5d4c3205395",
   "metadata": {},
   "outputs": [],
   "source": [
    "from openai import OpenAI"
   ]
  },
  {
   "cell_type": "code",
   "execution_count": 3,
   "id": "49241808-7729-4b32-a7cc-bdec78054f21",
   "metadata": {},
   "outputs": [],
   "source": [
    "client = OpenAI()"
   ]
  },
  {
   "cell_type": "code",
   "execution_count": 4,
   "id": "093ea280-0763-4384-81ce-d3b93275d333",
   "metadata": {},
   "outputs": [],
   "source": [
    "import os"
   ]
  },
  {
   "cell_type": "code",
   "execution_count": null,
   "id": "64134922",
   "metadata": {},
   "outputs": [],
   "source": [
    "os.version"
   ]
  },
  {
   "cell_type": "code",
   "execution_count": 6,
   "id": "e0ce974d-3ed7-46b3-8d45-81f3d966b697",
   "metadata": {},
   "outputs": [],
   "source": [
    "response = client.chat.completions.create(\n",
    "    model='gpt-4o',\n",
    "    messages=[{\"role\": \"user\", \"content\": \"is too late to join the course?\"}]\n",
    ")"
   ]
  },
  {
   "cell_type": "code",
   "execution_count": 11,
   "id": "868bf3e2-3209-473f-bad8-584ca33ff046",
   "metadata": {},
   "outputs": [
    {
     "data": {
      "text/plain": [
       "\"It's hard to say without additional context. The deadline and specific requirements can vary based on the course or institution. Here are a few steps you can take to determine if it's too late to join the course:\\n\\n1. **Check Registration Deadlines**: Look up the registration or enrollment deadlines for the course or institution.\\n2. **Contact the Instructor or Administration**: Reach out to the course instructor, academic advisor, or admissions office to inquire about late registration options.\\n3. **Review Course Syllabus**: If you have access to the course syllabus, check for any information regarding late enrollments.\\n4. **Consider Prerequisites**: Ensure you meet any prerequisites or required preparations for the course to understand if joining late could impact your ability to succeed.\\n\\nIf you narrowly missed the deadline, some institutions may offer flexibility, especially if you have a valid reason. It's always worth asking and exploring your options.\""
      ]
     },
     "execution_count": 11,
     "metadata": {},
     "output_type": "execute_result"
    }
   ],
   "source": [
    "response.choices[0].message.content"
   ]
  },
  {
   "cell_type": "code",
   "execution_count": null,
   "id": "6a40ca5e-9943-4d21-86e3-53db26d46158",
   "metadata": {},
   "outputs": [],
   "source": []
  }
 ],
 "metadata": {
  "kernelspec": {
   "display_name": "Python 3 (ipykernel)",
   "language": "python",
   "name": "python3"
  },
  "language_info": {
   "codemirror_mode": {
    "name": "ipython",
    "version": 3
   },
   "file_extension": ".py",
   "mimetype": "text/x-python",
   "name": "python",
   "nbconvert_exporter": "python",
   "pygments_lexer": "ipython3",
   "version": "3.10.13"
  }
 },
 "nbformat": 4,
 "nbformat_minor": 5
}
